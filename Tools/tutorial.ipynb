{
 "cells": [
  {
   "cell_type": "code",
   "execution_count": 20,
   "metadata": {
    "collapsed": true
   },
   "outputs": [],
   "source": [
    "from itertools import combinations\n",
    "from HDComputing import *"
   ]
  },
  {
   "cell_type": "markdown",
   "source": [
    "# Creating vectors and spaces"
   ],
   "metadata": {
    "collapsed": false,
    "pycharm": {
     "name": "#%% md\n"
    }
   }
  },
  {
   "cell_type": "markdown",
   "source": [
    "## Vectors outside a space"
   ],
   "metadata": {
    "collapsed": false
   }
  },
  {
   "cell_type": "code",
   "execution_count": 25,
   "outputs": [
    {
     "name": "stdout",
     "output_type": "stream",
     "text": [
      "[1 0 1 ... 1 0 1] [1 1 1 ... 0 0 0]\n",
      "(0, 1) 0.2814\n",
      "(0, 2) 0.4052\n",
      "(0, 3) 0.4561\n",
      "(1, 2) 0.2822\n",
      "(1, 3) 0.3979\n",
      "(2, 3) 0.2849\n"
     ]
    }
   ],
   "source": [
    "# Hypervector defined with dimensions\n",
    "vec_dim = BSCVector(dim=10000)\n",
    "\n",
    "# Hypervector defined with dimensions and number of hypervectors\n",
    "# Used to contain multiple hypervectors, not used for anything except level vectors and ID vectors so far\n",
    "vec_mult = BSCVector(dim=(2, 10000))\n",
    "\n",
    "# Index hypervectors with multiple vectors initialized above\n",
    "print(vec_mult[0], vec_mult[1])\n",
    "\n",
    "# Hypervector with value passed in\n",
    "vec_init = BSCVector(dim=10000, value=np.random.randint(2, size=10000))\n",
    "\n",
    "# Record-based encoding\n",
    "## N: number of features, M: number of levels, range: tuple of range\n",
    "encoding = {'N': 10, 'M': 4, 'range': (-10, 10)}\n",
    "id_vecs, level_vecs, encoded_vec = record_encode(dim=10000, rep=BSCVector, enc=encoding, features=np.random.randint(-10, 11, 10))\n",
    "\n",
    "# Test distance between level vectors, | is distance operator\n",
    "for (index1, index2) in (combinations(range(encoding['M']), 2)):\n",
    "\tprint((index1, index2), level_vecs[index1] | level_vecs[index2])\n",
    "\n",
    "## Re-use ID and level vectors for another encoding\n",
    "_, _, another_encoded_vec = record_encode(dim=10000, rep=BSCVector, enc=encoding, features=np.random.randint(-10, 11, 10), id_vectors=id_vecs, level_vectors=level_vecs)"
   ],
   "metadata": {
    "collapsed": false,
    "pycharm": {
     "name": "#%%\n"
    }
   }
  },
  {
   "cell_type": "markdown",
   "source": [
    "## Hypervector operators"
   ],
   "metadata": {
    "collapsed": false,
    "pycharm": {
     "name": "#%% md\n"
    }
   }
  },
  {
   "cell_type": "code",
   "execution_count": 5,
   "outputs": [
    {
     "name": "stdout",
     "output_type": "stream",
     "text": [
      "0.5083 0.2563 0.252\n",
      "0.5083\n",
      "0.5090566793129027\n",
      "True\n",
      "[1 1 1 ... 1 0 1]\n"
     ]
    }
   ],
   "source": [
    "A = BSCVector(dim=10000)\n",
    "B = BSCVector(dim=10000)\n",
    "\n",
    "# Bundling operation\n",
    "C = A + B\n",
    "\n",
    "# Binding operation\n",
    "D = A * B\n",
    "\n",
    "# Permutation operation\n",
    "E = ~A\n",
    "\n",
    "# Distance\n",
    "print(A | B, B | C, A | C)\n",
    "print(A.dist(B))\n",
    "\n",
    "# Similarity\n",
    "print(A.similar(B))\n",
    "\n",
    "# Equality\n",
    "print(A == A)\n",
    "\n",
    "# Access hypervector value stored as np.ndarray\n",
    "print(A.value)"
   ],
   "metadata": {
    "collapsed": false,
    "pycharm": {
     "name": "#%%\n"
    }
   }
  },
  {
   "cell_type": "markdown",
   "source": [
    "## Dollar of Mexico example"
   ],
   "metadata": {
    "collapsed": false,
    "pycharm": {
     "name": "#%% md\n"
    }
   }
  },
  {
   "cell_type": "code",
   "execution_count": 11,
   "outputs": [
    {
     "name": "stdout",
     "output_type": "stream",
     "text": [
      "('COUNTRY', 0.2483)\n",
      "('MEXICO', 0.3798)\n"
     ]
    }
   ],
   "source": [
    "# Create hyperspace and define dimensions and representation\n",
    "s = Hyperspace(dim=10000, rep=BSCVector)\n",
    "\n",
    "# Add named hypervectors, randomly initialized for defined representation\n",
    "U = s.add('USA')\n",
    "D = s.add('DOLLAR')\n",
    "M = s.add('MEXICO')\n",
    "P = s.add('PESOS')\n",
    "\n",
    "# Insert hypervectors initialized outside space\n",
    "X = BSCVector(dim=10000)\n",
    "Y = BSCVector(dim=10000)\n",
    "s.insert(v=X, name='COUNTRY')\n",
    "s.insert(v=Y, name='CURRENCY')\n",
    "\n",
    "# Create records for US and Mexico\n",
    "A = X * U + Y * D\n",
    "B = X * M + Y * P\n",
    "\n",
    "# Unbind USA, should get COUNTRY\n",
    "ctr = U * A\n",
    "\n",
    "# Unbind COUNTRY, should get MEXICO\n",
    "mex = ctr * B\n",
    "\n",
    "# Find hypervector closest to query\n",
    "print(s.query(ctr))\n",
    "print(s.query(mex))"
   ],
   "metadata": {
    "collapsed": false,
    "pycharm": {
     "name": "#%%\n"
    }
   }
  }
 ],
 "metadata": {
  "kernelspec": {
   "display_name": "Python 3",
   "language": "python",
   "name": "python3"
  },
  "language_info": {
   "codemirror_mode": {
    "name": "ipython",
    "version": 2
   },
   "file_extension": ".py",
   "mimetype": "text/x-python",
   "name": "python",
   "nbconvert_exporter": "python",
   "pygments_lexer": "ipython2",
   "version": "2.7.6"
  }
 },
 "nbformat": 4,
 "nbformat_minor": 0
}